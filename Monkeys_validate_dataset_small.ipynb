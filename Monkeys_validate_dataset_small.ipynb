{
  "nbformat": 4,
  "nbformat_minor": 0,
  "metadata": {
    "colab": {
      "provenance": [],
      "authorship_tag": "ABX9TyMZtVlhGL1XCRL0yBc+2B8+",
      "include_colab_link": true
    },
    "kernelspec": {
      "name": "python3",
      "display_name": "Python 3"
    },
    "language_info": {
      "name": "python"
    }
  },
  "cells": [
    {
      "cell_type": "markdown",
      "metadata": {
        "id": "view-in-github",
        "colab_type": "text"
      },
      "source": [
        "<a href=\"https://colab.research.google.com/github/benedettacandelori/Monkeys_go_stop_trials/blob/main/Monkeys_validate_dataset_small.ipynb\" target=\"_parent\"><img src=\"https://colab.research.google.com/assets/colab-badge.svg\" alt=\"Open In Colab\"/></a>"
      ]
    },
    {
      "cell_type": "markdown",
      "source": [
        "# Libraries"
      ],
      "metadata": {
        "id": "Q0YNJjAtt_3i"
      }
    },
    {
      "cell_type": "code",
      "source": [
        "from google.colab import drive\n",
        "drive.mount('/content/drive')"
      ],
      "metadata": {
        "id": "JNWclNWaN_dU",
        "colab": {
          "base_uri": "https://localhost:8080/"
        },
        "outputId": "e845d674-050e-43e2-f4cb-a436078f87de"
      },
      "execution_count": null,
      "outputs": [
        {
          "output_type": "stream",
          "name": "stdout",
          "text": [
            "Mounted at /content/drive\n"
          ]
        }
      ]
    },
    {
      "cell_type": "code",
      "source": [
        "import scipy.io\n",
        "import os\n",
        "import math\n",
        "import torch"
      ],
      "metadata": {
        "id": "-cTfhWTCN-kk"
      },
      "execution_count": null,
      "outputs": []
    },
    {
      "cell_type": "code",
      "source": [
        "os.chdir('/content/drive/MyDrive')\n",
        "os.getcwd() "
      ],
      "metadata": {
        "id": "9CuyGNTc4I6B",
        "colab": {
          "base_uri": "https://localhost:8080/"
        },
        "outputId": "b9bb9551-f679-47e7-b91c-9a0941137276"
      },
      "execution_count": null,
      "outputs": [
        {
          "output_type": "execute_result",
          "data": {
            "text/plain": [
              "'/content/drive/MyDrive'"
            ],
            "application/vnd.google.colaboratory.intrinsic+json": {
              "type": "string"
            }
          },
          "metadata": {},
          "execution_count": 3
        }
      ]
    },
    {
      "cell_type": "code",
      "source": [
        "device = 'cuda' if torch.cuda.is_available() else 'cpu'\n",
        "print(device)"
      ],
      "metadata": {
        "id": "hDtHCjlPTuFk",
        "colab": {
          "base_uri": "https://localhost:8080/"
        },
        "outputId": "88427564-ce53-4a4e-8c26-d63e64413e8b"
      },
      "execution_count": null,
      "outputs": [
        {
          "output_type": "stream",
          "name": "stdout",
          "text": [
            "cuda\n"
          ]
        }
      ]
    },
    {
      "cell_type": "code",
      "source": [
        "%pip install pytorch_lightning einops seaborn --quiet"
      ],
      "metadata": {
        "id": "mSb3ht1GsuZa",
        "colab": {
          "base_uri": "https://localhost:8080/"
        },
        "outputId": "cae824dc-8a25-4f77-e79e-8011bf1116a5"
      },
      "execution_count": null,
      "outputs": [
        {
          "output_type": "stream",
          "name": "stdout",
          "text": [
            "\u001b[2K     \u001b[90m━━━━━━━━━━━━━━━━━━━━━━━━━━━━━━━━━━━━━━\u001b[0m \u001b[32m716.4/716.4 KB\u001b[0m \u001b[31m10.4 MB/s\u001b[0m eta \u001b[36m0:00:00\u001b[0m\n",
            "\u001b[2K     \u001b[90m━━━━━━━━━━━━━━━━━━━━━━━━━━━━━━━━━━━━━━━━\u001b[0m \u001b[32m41.6/41.6 KB\u001b[0m \u001b[31m3.7 MB/s\u001b[0m eta \u001b[36m0:00:00\u001b[0m\n",
            "\u001b[2K     \u001b[90m━━━━━━━━━━━━━━━━━━━━━━━━━━━━━━━━━━━━━━\u001b[0m \u001b[32m519.2/519.2 KB\u001b[0m \u001b[31m32.7 MB/s\u001b[0m eta \u001b[36m0:00:00\u001b[0m\n",
            "\u001b[2K     \u001b[90m━━━━━━━━━━━━━━━━━━━━━━━━━━━━━━━━━━━━━━━━\u001b[0m \u001b[32m1.0/1.0 MB\u001b[0m \u001b[31m54.5 MB/s\u001b[0m eta \u001b[36m0:00:00\u001b[0m\n",
            "\u001b[2K     \u001b[90m━━━━━━━━━━━━━━━━━━━━━━━━━━━━━━━━━━━━━━━\u001b[0m \u001b[32m158.8/158.8 KB\u001b[0m \u001b[31m6.2 MB/s\u001b[0m eta \u001b[36m0:00:00\u001b[0m\n",
            "\u001b[2K     \u001b[90m━━━━━━━━━━━━━━━━━━━━━━━━━━━━━━━━━━━━━━\u001b[0m \u001b[32m264.6/264.6 KB\u001b[0m \u001b[31m18.1 MB/s\u001b[0m eta \u001b[36m0:00:00\u001b[0m\n",
            "\u001b[2K     \u001b[90m━━━━━━━━━━━━━━━━━━━━━━━━━━━━━━━━━━━━━━\u001b[0m \u001b[32m114.2/114.2 KB\u001b[0m \u001b[31m11.6 MB/s\u001b[0m eta \u001b[36m0:00:00\u001b[0m\n",
            "\u001b[?25h"
          ]
        }
      ]
    },
    {
      "cell_type": "code",
      "source": [
        "import torch\n",
        "import torch.nn as nn\n",
        "import math\n",
        "import seaborn as sns\n",
        "import matplotlib.pyplot as plt\n",
        "import pandas as pd\n",
        "import numpy as np\n",
        "from torch.utils.data import Dataset, DataLoader\n",
        "import torch.nn.functional as F\n",
        "from torchmetrics.classification import Accuracy, F1Score, MulticlassAccuracy\n",
        "from torchmetrics.classification import BinaryAccuracy"
      ],
      "metadata": {
        "id": "1MPC0AscTuFj"
      },
      "execution_count": null,
      "outputs": []
    },
    {
      "cell_type": "markdown",
      "source": [
        "# Dataset"
      ],
      "metadata": {
        "id": "pVeu2ptHDUZU"
      }
    },
    {
      "cell_type": "markdown",
      "source": [
        "### Dataset creation"
      ],
      "metadata": {
        "id": "k2wxdunRDXo0"
      }
    },
    {
      "cell_type": "code",
      "source": [
        "class Monkeys_dataset(Dataset):\n",
        "    \"\"\"Monkeys dataset\"\"\"\n",
        "\n",
        "    def __init__(self, mat_file_labels, mat_file_x, root_dir, start_idx = 800, end_idx = 1200):\n",
        "        \"\"\"\n",
        "        Args:\n",
        "            mat_file (string): Path to the .mat files.\n",
        "            root_dir (string): Directory with all the data.\n",
        "        \"\"\"\n",
        "        self.classes = scipy.io.loadmat(mat_file_labels)['nostop']\n",
        "        self.data = scipy.io.loadmat(mat_file_x)['matrix']\n",
        "        self.root_dir = root_dir\n",
        "        self.start_idx = start_idx\n",
        "        self.end_idx = end_idx\n",
        "\n",
        "    def __len__(self):\n",
        "        return len(self.classes)\n",
        "\n",
        "    def __getitem__(self, idx):\n",
        "        if torch.is_tensor(idx):\n",
        "            idx = idx.tolist()\n",
        "\n",
        "\n",
        "        x = self.data[:,idx,self.start_idx:self.end_idx]\n",
        "        x = torch.tensor(x).float().squeeze(0)#.unsqueeze(1) \n",
        "        label = int(self.classes[idx,1])\n",
        "      \n",
        "        #sample = {'matrix': x, 'class': label}\n",
        "        sample = (x, label)\n",
        "\n",
        "        return sample"
      ],
      "metadata": {
        "id": "9RAx08ke4k6H"
      },
      "execution_count": null,
      "outputs": []
    },
    {
      "cell_type": "code",
      "source": [
        "dataset = Monkeys_dataset(mat_file_labels = 'Stop_Task_Collab_2023/BHV_Go.mat', mat_file_x = 'Stop_Task_Collab_2023/activity_movement_onset_Go.mat',\n",
        "                                    root_dir='Stop_Task_Collab_2023/')\n"
      ],
      "metadata": {
        "id": "WM1naC5S5O0B"
      },
      "execution_count": null,
      "outputs": []
    },
    {
      "cell_type": "code",
      "source": [
        "print(dataset[0][0].shape)\n",
        "print(dataset[0][1])"
      ],
      "metadata": {
        "id": "AM2fkrwQ5PpX",
        "colab": {
          "base_uri": "https://localhost:8080/"
        },
        "outputId": "a7a16b1a-73d8-413f-e0b4-a32740b768ec"
      },
      "execution_count": null,
      "outputs": [
        {
          "output_type": "stream",
          "name": "stdout",
          "text": [
            "torch.Size([105, 400])\n",
            "2\n"
          ]
        }
      ]
    },
    {
      "cell_type": "markdown",
      "source": [
        "### Data loader"
      ],
      "metadata": {
        "id": "ETAHRbDdC9_O"
      }
    },
    {
      "cell_type": "code",
      "source": [
        "# We split the dataset in training and test portions\n",
        "#monkey_train, monkey_val, monkey_test = torch.utils.data.random_split(dataset, [0.7, 0.15, 0.15])\n",
        "monkey_train, monkey_val = torch.utils.data.random_split(dataset, [0.85, 0.15])"
      ],
      "metadata": {
        "id": "II4bqh3M_GS4"
      },
      "execution_count": null,
      "outputs": []
    },
    {
      "cell_type": "code",
      "source": [
        "batch_size = 4"
      ],
      "metadata": {
        "id": "FtQlbOVKcqnQ"
      },
      "execution_count": null,
      "outputs": []
    },
    {
      "cell_type": "code",
      "source": [],
      "metadata": {
        "id": "3sh3jxe1XZLI"
      },
      "execution_count": null,
      "outputs": []
    },
    {
      "cell_type": "code",
      "source": [
        "# Loaders create mini-batches of images from the original dataset\n",
        "loader_train = torch.utils.data.DataLoader(monkey_train, batch_size=batch_size, shuffle=True,)\n",
        "loader_val = torch.utils.data.DataLoader(monkey_val, batch_size=batch_size, shuffle=False)\n",
        "#loader_test = torch.utils.data.DataLoader(monkey_test, batch_size=batch_size, shuffle=False)"
      ],
      "metadata": {
        "id": "cpkp23fe_RRR"
      },
      "execution_count": null,
      "outputs": []
    },
    {
      "cell_type": "markdown",
      "source": [],
      "metadata": {
        "id": "4JwTdGvWhA7h"
      }
    },
    {
      "cell_type": "markdown",
      "source": [],
      "metadata": {
        "id": "sGA9Cp7qhA4B"
      }
    },
    {
      "cell_type": "markdown",
      "source": [],
      "metadata": {
        "id": "2nLCut_JhA03"
      }
    },
    {
      "cell_type": "code",
      "source": [
        "for xb, yb in loader_train:\n",
        "  break\n",
        "print(xb.shape)\n",
        "print(yb.shape)"
      ],
      "metadata": {
        "id": "Jbv78B_Z_WVI",
        "colab": {
          "base_uri": "https://localhost:8080/"
        },
        "outputId": "51a36d0d-dda4-4797-a3bd-0d425395355d"
      },
      "execution_count": null,
      "outputs": [
        {
          "output_type": "stream",
          "name": "stdout",
          "text": [
            "torch.Size([4, 105, 400])\n",
            "torch.Size([4])\n"
          ]
        }
      ]
    },
    {
      "cell_type": "markdown",
      "source": [
        "# Conv1D for validation - small\n",
        " "
      ],
      "metadata": {
        "id": "R4hVGI9WsQAk"
      }
    },
    {
      "cell_type": "code",
      "source": [
        "class Conv1DBinaryClassifier(nn.Module):\n",
        "  def __init__(self):\n",
        "    super(Conv1DBinaryClassifier, self).__init__()\n",
        "    self.conv1 = nn.Conv1d(in_channels=105, out_channels=64, kernel_size=5)\n",
        "    self.conv2 = nn.Conv1d(in_channels=64, out_channels=8, kernel_size=5)\n",
        "    self.pool = nn.MaxPool1d(kernel_size=2)\n",
        "    \n",
        "    self.fc1 = nn.Linear(in_features=8*97, out_features=128)\n",
        "    self.fc2 = nn.Linear(in_features=128, out_features=2)\n",
        "    #self.dropout = nn.Dropout(p=0.2)\n",
        "\n",
        "  def forward(self, x):\n",
        "    x = self.pool(torch.relu(self.conv1(x)))  \n",
        "    x = self.pool(torch.relu(self.conv2(x))) \n",
        "    x = x.view(-1, 8*97)\n",
        "    x = torch.relu(self.fc1(x))\n",
        "    x = self.fc2(x)\n",
        "    x = torch.sigmoid(x) \n",
        "    return x"
      ],
      "metadata": {
        "id": "SWAc8xbNMRL1"
      },
      "execution_count": null,
      "outputs": []
    },
    {
      "cell_type": "code",
      "source": [
        "def train(model, train_dataset, val_dataset, batch_size = 8, num_epochs = 30, learning_rate = 0.0005):\n",
        "  # Define loss function and optimizer\n",
        "  \n",
        "  criterion  = nn.BCELoss()\n",
        "  optimizer = torch.optim.Adam(model.parameters(), lr = learning_rate)\n",
        "\n",
        "  # Define accuracy metric\n",
        "  accuracy_metric = BinaryAccuracy()\n",
        "\n",
        "  train_loader = torch.utils.data.DataLoader(train_dataset, batch_size=batch_size, shuffle=True)\n",
        "  val_loader = torch.utils.data.DataLoader(val_dataset, batch_size=batch_size, shuffle=False)\n",
        "\n",
        "  train_losses = []\n",
        "  train_accs = []\n",
        "  val_losses = []\n",
        "  val_accs = []\n",
        "  \n",
        "  # Train model\n",
        "  for epoch in range(num_epochs):\n",
        "  \n",
        "    # Training\n",
        "    train_loss = 0.0\n",
        "    train_acc = 0.0\n",
        "    model.train()\n",
        "    for i, (inputs, labels) in enumerate(train_loader):\n",
        "        # Forward pass\n",
        "        \n",
        "        outputs = model(inputs)\n",
        "\n",
        "        labels_onehot = F.one_hot(labels-1, num_classes=2)\n",
        "        loss = criterion(outputs.float(), labels_onehot.float())\n",
        "\n",
        "        # Backward pass and optimization\n",
        "        optimizer.zero_grad()\n",
        "        loss.backward()\n",
        "        optimizer.step()\n",
        "        train_loss += loss.item() \n",
        "\n",
        "        classifications = torch.argmax(outputs, dim =1)\n",
        "        #accuracy_metric.update(classifications, labels-1)\n",
        "        acc = accuracy_metric(classifications, labels-1)\n",
        "        train_acc += acc.item() \n",
        "              \n",
        "                \n",
        "    # Validation\n",
        "    val_loss = 0.0\n",
        "    val_acc = 0.0\n",
        "    #accuracy_metric.reset()\n",
        "    model.eval()\n",
        "    with torch.no_grad():\n",
        "      for inputs, labels in val_loader:\n",
        "        # Forward pass\n",
        "        \n",
        "        outputs = model(inputs)\n",
        "        \n",
        "        labels_onehot = F.one_hot(labels-1, num_classes=2) \n",
        "        loss = criterion(outputs.float(), labels_onehot.float())\n",
        "\n",
        "        val_loss += loss.item() \n",
        "        # Compute accuracy\n",
        "        classifications = torch.argmax(outputs, dim =1)\n",
        "        #accuracy_metric.update(classifications, labels-1)\n",
        "        acc = accuracy_metric(classifications, labels-1)\n",
        "        val_acc += acc.item() \n",
        "\n",
        "    val_loss = val_loss / len(val_loader)\n",
        "    val_acc = val_acc / len(val_loader)\n",
        "\n",
        "    # Compute metrics\n",
        "    train_loss = train_loss / len(train_loader)\n",
        "   \n",
        "    train_acc = train_acc / len(train_loader)\n",
        "   \n",
        "    #accuracy = accuracy_metric.compute()\n",
        "\n",
        "    # Print results\n",
        "    print(f\"Epoch {epoch+1}/{num_epochs}, Train Loss: {train_loss:.4f}, Val Loss: {val_loss:.4f}, Train Accuracy: {train_acc:.4f}, Val Accuracy: {val_acc:.4f}\")\n",
        "\n",
        "    train_losses.append(train_loss)\n",
        "    val_losses.append(val_loss)\n",
        "    train_accs.append(train_acc)\n",
        "    val_accs.append(val_acc)\n",
        "\n",
        "  \n",
        "  return train_losses,train_accs, val_losses, val_accs\n"
      ],
      "metadata": {
        "id": "FdjhBC353Ol0"
      },
      "execution_count": null,
      "outputs": []
    },
    {
      "cell_type": "code",
      "source": [
        "model = Conv1DBinaryClassifier()"
      ],
      "metadata": {
        "id": "5yYogwyBaLVx"
      },
      "execution_count": null,
      "outputs": []
    },
    {
      "cell_type": "code",
      "source": [
        "train_losses, train_accs, val_losses, val_accs = train(model, monkey_train, monkey_val, batch_size = 8, num_epochs = 20,  learning_rate = 0.00005)"
      ],
      "metadata": {
        "colab": {
          "base_uri": "https://localhost:8080/"
        },
        "id": "dLm2tLU0XLwA",
        "outputId": "638679e1-6881-41d8-febb-c8a910a6209a"
      },
      "execution_count": null,
      "outputs": [
        {
          "output_type": "stream",
          "name": "stdout",
          "text": [
            "Epoch 1/20, Train Loss: 0.6931, Val Loss: 0.6926, Train Accuracy: 0.5338, Val Accuracy: 0.6833\n",
            "Epoch 2/20, Train Loss: 0.6912, Val Loss: 0.6890, Train Accuracy: 0.6721, Val Accuracy: 0.5083\n",
            "Epoch 3/20, Train Loss: 0.6811, Val Loss: 0.6669, Train Accuracy: 0.8515, Val Accuracy: 0.9750\n",
            "Epoch 4/20, Train Loss: 0.6215, Val Loss: 0.5488, Train Accuracy: 0.9912, Val Accuracy: 1.0000\n",
            "Epoch 5/20, Train Loss: 0.4170, Val Loss: 0.2755, Train Accuracy: 0.9985, Val Accuracy: 0.9917\n",
            "Epoch 6/20, Train Loss: 0.1658, Val Loss: 0.0974, Train Accuracy: 0.9971, Val Accuracy: 0.9917\n",
            "Epoch 7/20, Train Loss: 0.0599, Val Loss: 0.0449, Train Accuracy: 0.9971, Val Accuracy: 0.9917\n",
            "Epoch 8/20, Train Loss: 0.0282, Val Loss: 0.0332, Train Accuracy: 0.9971, Val Accuracy: 0.9917\n",
            "Epoch 9/20, Train Loss: 0.0172, Val Loss: 0.0233, Train Accuracy: 0.9985, Val Accuracy: 0.9917\n",
            "Epoch 10/20, Train Loss: 0.0116, Val Loss: 0.0206, Train Accuracy: 0.9985, Val Accuracy: 0.9917\n",
            "Epoch 11/20, Train Loss: 0.0087, Val Loss: 0.0165, Train Accuracy: 0.9985, Val Accuracy: 0.9917\n",
            "Epoch 12/20, Train Loss: 0.0066, Val Loss: 0.0185, Train Accuracy: 1.0000, Val Accuracy: 0.9917\n",
            "Epoch 13/20, Train Loss: 0.0052, Val Loss: 0.0182, Train Accuracy: 1.0000, Val Accuracy: 0.9917\n",
            "Epoch 14/20, Train Loss: 0.0043, Val Loss: 0.0156, Train Accuracy: 1.0000, Val Accuracy: 0.9917\n",
            "Epoch 15/20, Train Loss: 0.0037, Val Loss: 0.0175, Train Accuracy: 1.0000, Val Accuracy: 0.9917\n",
            "Epoch 16/20, Train Loss: 0.0030, Val Loss: 0.0211, Train Accuracy: 1.0000, Val Accuracy: 0.9917\n",
            "Epoch 17/20, Train Loss: 0.0026, Val Loss: 0.0183, Train Accuracy: 1.0000, Val Accuracy: 0.9917\n",
            "Epoch 18/20, Train Loss: 0.0022, Val Loss: 0.0182, Train Accuracy: 1.0000, Val Accuracy: 0.9917\n",
            "Epoch 19/20, Train Loss: 0.0018, Val Loss: 0.0177, Train Accuracy: 1.0000, Val Accuracy: 0.9917\n",
            "Epoch 20/20, Train Loss: 0.0016, Val Loss: 0.0195, Train Accuracy: 1.0000, Val Accuracy: 0.9917\n"
          ]
        }
      ]
    },
    {
      "cell_type": "code",
      "source": [
        "plt.plot(train_accs, label = 'train')\n",
        "plt.plot(val_accs, label = 'val')\n",
        "plt.legend()"
      ],
      "metadata": {
        "id": "6UUs1QGfonUp",
        "colab": {
          "base_uri": "https://localhost:8080/",
          "height": 447
        },
        "outputId": "3b60d257-4a3d-4c83-9be5-8dcd1a4660ba"
      },
      "execution_count": null,
      "outputs": [
        {
          "output_type": "execute_result",
          "data": {
            "text/plain": [
              "<matplotlib.legend.Legend at 0x7f2f04b4a4c0>"
            ]
          },
          "metadata": {},
          "execution_count": 19
        },
        {
          "output_type": "display_data",
          "data": {
            "text/plain": [
              "<Figure size 640x480 with 1 Axes>"
            ],
            "image/png": "[encoded data removed]"
          },
          "metadata": {}
        }
      ]
    },
    {
      "cell_type": "code",
      "source": [
        "plt.plot(train_losses, label = 'train')\n",
        "plt.plot(val_losses, label = 'val')\n",
        "plt.legend()"
      ],
      "metadata": {
        "colab": {
          "base_uri": "https://localhost:8080/",
          "height": 447
        },
        "id": "duJgsVNY9qPe",
        "outputId": "3b9843c5-f650-4034-d908-167e912267ea"
      },
      "execution_count": null,
      "outputs": [
        {
          "output_type": "execute_result",
          "data": {
            "text/plain": [
              "<matplotlib.legend.Legend at 0x7f2ef18b47c0>"
            ]
          },
          "metadata": {},
          "execution_count": 20
        },
        {
          "output_type": "display_data",
          "data": {
            "text/plain": [
              "<Figure size 640x480 with 1 Axes>"
            ],
            "image/png": "[encoded data removed]"
          },
          "metadata": {}
        }
      ]
    },
    {
      "cell_type": "code",
      "source": [],
      "metadata": {
        "id": "NOrhItPM9qL-"
      },
      "execution_count": null,
      "outputs": []
    }
  ]
}