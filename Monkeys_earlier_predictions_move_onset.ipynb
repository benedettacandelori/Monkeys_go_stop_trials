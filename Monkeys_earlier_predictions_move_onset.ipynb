{
  "nbformat": 4,
  "nbformat_minor": 0,
  "metadata": {
    "colab": {
      "provenance": [],
      "include_colab_link": true
    },
    "kernelspec": {
      "name": "python3",
      "display_name": "Python 3"
    },
    "language_info": {
      "name": "python"
    }
  },
  "cells": [
    {
      "cell_type": "markdown",
      "metadata": {
        "id": "view-in-github",
        "colab_type": "text"
      },
      "source": [
        "<a href=\"https://colab.research.google.com/github/benedettacandelori/Monkeys_go_stop_trials/blob/main/Monkeys_earlier_predictions_move_onset.ipynb\" target=\"_parent\"><img src=\"https://colab.research.google.com/assets/colab-badge.svg\" alt=\"Open In Colab\"/></a>"
      ]
    },
    {
      "cell_type": "markdown",
      "source": [
        "# Libraries"
      ],
      "metadata": {
        "id": "Q0YNJjAtt_3i"
      }
    },
    {
      "cell_type": "code",
      "source": [
        "from google.colab import drive\n",
        "drive.mount('/content/drive')"
      ],
      "metadata": {
        "id": "JNWclNWaN_dU",
        "colab": {
          "base_uri": "https://localhost:8080/"
        },
        "outputId": "b1f5cc90-b185-499e-9cdf-41a85248f2c3"
      },
      "execution_count": null,
      "outputs": [
        {
          "output_type": "stream",
          "name": "stdout",
          "text": [
            "Mounted at /content/drive\n"
          ]
        }
      ]
    },
    {
      "cell_type": "code",
      "source": [
        "import scipy.io\n",
        "import os\n",
        "import math\n",
        "import torch"
      ],
      "metadata": {
        "id": "-cTfhWTCN-kk"
      },
      "execution_count": null,
      "outputs": []
    },
    {
      "cell_type": "code",
      "source": [
        "os.chdir('/content/drive/MyDrive')\n",
        "os.getcwd() "
      ],
      "metadata": {
        "id": "9CuyGNTc4I6B",
        "colab": {
          "base_uri": "https://localhost:8080/",
          "height": 36
        },
        "outputId": "f37cbcaf-41c2-4662-fed5-166902eafc11"
      },
      "execution_count": null,
      "outputs": [
        {
          "output_type": "execute_result",
          "data": {
            "text/plain": [
              "'/content/drive/MyDrive'"
            ],
            "application/vnd.google.colaboratory.intrinsic+json": {
              "type": "string"
            }
          },
          "metadata": {},
          "execution_count": 4
        }
      ]
    },
    {
      "cell_type": "code",
      "source": [
        "device = 'cuda' if torch.cuda.is_available() else 'cpu'\n",
        "print(device)"
      ],
      "metadata": {
        "id": "hDtHCjlPTuFk",
        "colab": {
          "base_uri": "https://localhost:8080/"
        },
        "outputId": "045a9af2-b56d-4a4f-9a4a-a67db0005c7b"
      },
      "execution_count": null,
      "outputs": [
        {
          "output_type": "stream",
          "name": "stdout",
          "text": [
            "cpu\n"
          ]
        }
      ]
    },
    {
      "cell_type": "code",
      "source": [
        "%pip install pytorch_lightning einops seaborn --quiet"
      ],
      "metadata": {
        "id": "mSb3ht1GsuZa",
        "colab": {
          "base_uri": "https://localhost:8080/"
        },
        "outputId": "4c16ef4f-21f3-437d-d8b0-24629777235e"
      },
      "execution_count": null,
      "outputs": [
        {
          "output_type": "stream",
          "name": "stdout",
          "text": [
            "\u001b[2K     \u001b[90m━━━━━━━━━━━━━━━━━━━━━━━━━━━━━━━━━━━━━━\u001b[0m \u001b[32m718.6/718.6 kB\u001b[0m \u001b[31m10.7 MB/s\u001b[0m eta \u001b[36m0:00:00\u001b[0m\n",
            "\u001b[2K     \u001b[90m━━━━━━━━━━━━━━━━━━━━━━━━━━━━━━━━━━━━━━━━\u001b[0m \u001b[32m42.2/42.2 kB\u001b[0m \u001b[31m3.4 MB/s\u001b[0m eta \u001b[36m0:00:00\u001b[0m\n",
            "\u001b[2K     \u001b[90m━━━━━━━━━━━━━━━━━━━━━━━━━━━━━━━━━━━━━━\u001b[0m \u001b[32m519.2/519.2 kB\u001b[0m \u001b[31m43.3 MB/s\u001b[0m eta \u001b[36m0:00:00\u001b[0m\n",
            "\u001b[2K     \u001b[90m━━━━━━━━━━━━━━━━━━━━━━━━━━━━━━━━━━━━━━━━\u001b[0m \u001b[32m1.0/1.0 MB\u001b[0m \u001b[31m56.2 MB/s\u001b[0m eta \u001b[36m0:00:00\u001b[0m\n",
            "\u001b[2K     \u001b[90m━━━━━━━━━━━━━━━━━━━━━━━━━━━━━━━━━━━━━━\u001b[0m \u001b[32m158.8/158.8 kB\u001b[0m \u001b[31m17.6 MB/s\u001b[0m eta \u001b[36m0:00:00\u001b[0m\n",
            "\u001b[2K     \u001b[90m━━━━━━━━━━━━━━━━━━━━━━━━━━━━━━━━━━━━━━\u001b[0m \u001b[32m114.2/114.2 kB\u001b[0m \u001b[31m13.1 MB/s\u001b[0m eta \u001b[36m0:00:00\u001b[0m\n",
            "\u001b[2K     \u001b[90m━━━━━━━━━━━━━━━━━━━━━━━━━━━━━━━━━━━━━━\u001b[0m \u001b[32m264.6/264.6 kB\u001b[0m \u001b[31m29.7 MB/s\u001b[0m eta \u001b[36m0:00:00\u001b[0m\n",
            "\u001b[?25h"
          ]
        }
      ]
    },
    {
      "cell_type": "code",
      "source": [
        "import torch\n",
        "import torch.nn as nn\n",
        "import math\n",
        "import seaborn as sns\n",
        "import matplotlib.pyplot as plt\n",
        "import pandas as pd\n",
        "import numpy as np\n",
        "from torch.utils.data import Dataset, DataLoader\n",
        "import torch.nn.functional as F\n",
        "from torchmetrics.classification import Accuracy, F1Score, MulticlassAccuracy\n",
        "from torchmetrics.classification import BinaryAccuracy"
      ],
      "metadata": {
        "id": "1MPC0AscTuFj"
      },
      "execution_count": null,
      "outputs": []
    },
    {
      "cell_type": "markdown",
      "source": [
        "# Dataset"
      ],
      "metadata": {
        "id": "pVeu2ptHDUZU"
      }
    },
    {
      "cell_type": "markdown",
      "source": [
        "### Dataset creation"
      ],
      "metadata": {
        "id": "k2wxdunRDXo0"
      }
    },
    {
      "cell_type": "code",
      "source": [
        "class Monkeys_dataset(Dataset):\n",
        "    \"\"\"Monkeys dataset\"\"\"\n",
        "\n",
        "    def __init__(self, mat_file_labels, mat_file_x, root_dir, start_idx = 800, end_idx = 1200):\n",
        "        \"\"\"\n",
        "        Args:\n",
        "            mat_file (string): Path to the .mat files.\n",
        "            root_dir (string): Directory with all the data.\n",
        "        \"\"\"\n",
        "        self.classes = scipy.io.loadmat(mat_file_labels)['nostop']\n",
        "        self.data = scipy.io.loadmat(mat_file_x)['matrix']\n",
        "        self.root_dir = root_dir\n",
        "        self.start_idx = start_idx\n",
        "        self.end_idx = end_idx\n",
        "\n",
        "    def __len__(self):\n",
        "        return len(self.classes)\n",
        "\n",
        "    def __getitem__(self, idx):\n",
        "        if torch.is_tensor(idx):\n",
        "            idx = idx.tolist()\n",
        "\n",
        "\n",
        "        x = self.data[:,idx,self.start_idx:self.end_idx]\n",
        "        x = torch.tensor(x).float().squeeze(0)#.unsqueeze(1) \n",
        "        label = int(self.classes[idx,1])\n",
        "      \n",
        "        #sample = {'matrix': x, 'class': label}\n",
        "        sample = (x, label)\n",
        "\n",
        "        return sample"
      ],
      "metadata": {
        "id": "9RAx08ke4k6H"
      },
      "execution_count": null,
      "outputs": []
    },
    {
      "cell_type": "code",
      "source": [
        "start = 400\n",
        "end = 800"
      ],
      "metadata": {
        "id": "VrQTnKJdnUPW"
      },
      "execution_count": null,
      "outputs": []
    },
    {
      "cell_type": "code",
      "source": [
        "dataset = Monkeys_dataset(mat_file_labels = 'Stop_Task_Collab_2023/BHV_Go.mat', mat_file_x = 'Stop_Task_Collab_2023/activity_movement_onset_Go.mat',\n",
        "                                    root_dir='Stop_Task_Collab_2023/', start_idx = start, end_idx = end)\n"
      ],
      "metadata": {
        "id": "WM1naC5S5O0B"
      },
      "execution_count": null,
      "outputs": []
    },
    {
      "cell_type": "code",
      "source": [
        "print(dataset[0][0].shape)\n",
        "print(dataset[0][1])"
      ],
      "metadata": {
        "id": "AM2fkrwQ5PpX",
        "colab": {
          "base_uri": "https://localhost:8080/"
        },
        "outputId": "5795bda5-1773-4037-93b6-051e1676dea2"
      },
      "execution_count": null,
      "outputs": [
        {
          "output_type": "stream",
          "name": "stdout",
          "text": [
            "torch.Size([105, 400])\n",
            "2\n"
          ]
        }
      ]
    },
    {
      "cell_type": "markdown",
      "source": [
        "### Data loader"
      ],
      "metadata": {
        "id": "ETAHRbDdC9_O"
      }
    },
    {
      "cell_type": "code",
      "source": [
        "# We split the dataset in training and test portions\n",
        "#monkey_train, monkey_val, monkey_test = torch.utils.data.random_split(dataset, [0.7, 0.15, 0.15])\n",
        "monkey_train, monkey_val = torch.utils.data.random_split(dataset, [0.85, 0.15])"
      ],
      "metadata": {
        "id": "II4bqh3M_GS4"
      },
      "execution_count": null,
      "outputs": []
    },
    {
      "cell_type": "code",
      "source": [
        "batch_size = 4"
      ],
      "metadata": {
        "id": "FtQlbOVKcqnQ"
      },
      "execution_count": null,
      "outputs": []
    },
    {
      "cell_type": "code",
      "source": [],
      "metadata": {
        "id": "3sh3jxe1XZLI"
      },
      "execution_count": null,
      "outputs": []
    },
    {
      "cell_type": "code",
      "source": [
        "# Loaders create mini-batches of images from the original dataset\n",
        "loader_train = torch.utils.data.DataLoader(monkey_train, batch_size=batch_size, shuffle=True,)\n",
        "loader_val = torch.utils.data.DataLoader(monkey_val, batch_size=batch_size, shuffle=False)\n",
        "#loader_test = torch.utils.data.DataLoader(monkey_test, batch_size=batch_size, shuffle=False)"
      ],
      "metadata": {
        "id": "cpkp23fe_RRR"
      },
      "execution_count": null,
      "outputs": []
    },
    {
      "cell_type": "markdown",
      "source": [],
      "metadata": {
        "id": "4JwTdGvWhA7h"
      }
    },
    {
      "cell_type": "markdown",
      "source": [],
      "metadata": {
        "id": "sGA9Cp7qhA4B"
      }
    },
    {
      "cell_type": "markdown",
      "source": [],
      "metadata": {
        "id": "2nLCut_JhA03"
      }
    },
    {
      "cell_type": "code",
      "source": [
        "for xb, yb in loader_train:\n",
        "  break\n",
        "print(xb.shape)\n",
        "print(yb.shape)"
      ],
      "metadata": {
        "id": "Jbv78B_Z_WVI",
        "colab": {
          "base_uri": "https://localhost:8080/"
        },
        "outputId": "f503bd53-b718-4237-e743-8445ddc3ccf0"
      },
      "execution_count": null,
      "outputs": [
        {
          "output_type": "stream",
          "name": "stdout",
          "text": [
            "torch.Size([4, 105, 400])\n",
            "torch.Size([4])\n"
          ]
        }
      ]
    },
    {
      "cell_type": "markdown",
      "source": [
        "# Conv1D for validation - small\n",
        " "
      ],
      "metadata": {
        "id": "R4hVGI9WsQAk"
      }
    },
    {
      "cell_type": "code",
      "source": [
        "class Conv1DBinaryClassifier(nn.Module):\n",
        "  def __init__(self):\n",
        "    super(Conv1DBinaryClassifier, self).__init__()\n",
        "    self.conv1 = nn.Conv1d(in_channels=105, out_channels=64, kernel_size=5)\n",
        "    self.conv2 = nn.Conv1d(in_channels=64, out_channels=8, kernel_size=5)\n",
        "    self.pool = nn.MaxPool1d(kernel_size=2)\n",
        "    \n",
        "    self.fc1 = nn.Linear(in_features=8*97, out_features=128)\n",
        "    self.fc2 = nn.Linear(in_features=128, out_features=2)\n",
        "    self.dropout = nn.Dropout(p=0.5)\n",
        "\n",
        "  def forward(self, x):\n",
        "    x = self.pool(torch.relu(self.conv1(x)))\n",
        "    #x = self.dropout(x)  \n",
        "    x = self.pool(torch.relu(self.conv2(x))) \n",
        "    #x = self.dropout(x) \n",
        "    x = x.view(-1, 8*97)\n",
        "    x = torch.relu(self.fc1(x))\n",
        "    #x = self.dropout(x) \n",
        "    x = self.fc2(x)\n",
        "    x = torch.sigmoid(x) \n",
        "    return x"
      ],
      "metadata": {
        "id": "SWAc8xbNMRL1"
      },
      "execution_count": null,
      "outputs": []
    },
    {
      "cell_type": "code",
      "source": [],
      "metadata": {
        "id": "pWRQHgaHpo8i"
      },
      "execution_count": null,
      "outputs": []
    },
    {
      "cell_type": "code",
      "source": [
        "def train(model, train_dataset, val_dataset, batch_size = 8, num_epochs = 30, learning_rate = 0.0005):\n",
        "  # Define loss function and optimizer\n",
        "  \n",
        "  criterion  = nn.BCELoss()\n",
        "  optimizer = torch.optim.Adam(model.parameters(), lr = learning_rate)\n",
        "\n",
        "  # Define accuracy metric\n",
        "  accuracy_metric = BinaryAccuracy()\n",
        "\n",
        "  train_loader = torch.utils.data.DataLoader(train_dataset, batch_size=batch_size, shuffle=True)\n",
        "  val_loader = torch.utils.data.DataLoader(val_dataset, batch_size=batch_size, shuffle=False)\n",
        "\n",
        "  train_losses = []\n",
        "  train_accs = []\n",
        "  val_losses = []\n",
        "  val_accs = []\n",
        "  \n",
        "  # Train model\n",
        "  for epoch in range(num_epochs):\n",
        "  \n",
        "    # Training\n",
        "    train_loss = 0.0\n",
        "    train_acc = 0.0\n",
        "    model.train()\n",
        "    for i, (inputs, labels) in enumerate(train_loader):\n",
        "        # Forward pass\n",
        "        \n",
        "        outputs = model(inputs)\n",
        "\n",
        "        labels_onehot = F.one_hot(labels-1, num_classes=2)\n",
        "        loss = criterion(outputs.float(), labels_onehot.float())\n",
        "\n",
        "        # Backward pass and optimization\n",
        "        optimizer.zero_grad()\n",
        "        loss.backward()\n",
        "        optimizer.step()\n",
        "        train_loss += loss.item() \n",
        "\n",
        "        classifications = torch.argmax(outputs, dim =1)\n",
        "        #accuracy_metric.update(classifications, labels-1)\n",
        "        acc = accuracy_metric(classifications, labels-1)\n",
        "        train_acc += acc.item() \n",
        "              \n",
        "                \n",
        "    # Validation\n",
        "    val_loss = 0.0\n",
        "    val_acc = 0.0\n",
        "    #accuracy_metric.reset()\n",
        "    model.eval()\n",
        "    with torch.no_grad():\n",
        "      for inputs, labels in val_loader:\n",
        "        # Forward pass\n",
        "        \n",
        "        outputs = model(inputs)\n",
        "        \n",
        "        labels_onehot = F.one_hot(labels-1, num_classes=2) \n",
        "        loss = criterion(outputs.float(), labels_onehot.float())\n",
        "\n",
        "        val_loss += loss.item() \n",
        "        # Compute accuracy\n",
        "        classifications = torch.argmax(outputs, dim =1)\n",
        "        #accuracy_metric.update(classifications, labels-1)\n",
        "        acc = accuracy_metric(classifications, labels-1)\n",
        "        val_acc += acc.item() \n",
        "\n",
        "    val_loss = val_loss / len(val_loader)\n",
        "    val_acc = val_acc / len(val_loader)\n",
        "\n",
        "    # Compute metrics\n",
        "    train_loss = train_loss / len(train_loader)\n",
        "   \n",
        "    train_acc = train_acc / len(train_loader)\n",
        "   \n",
        "    #accuracy = accuracy_metric.compute()\n",
        "\n",
        "    # Print results\n",
        "    #print(f\"Epoch {epoch+1}/{num_epochs}, Train Loss: {train_loss:.4f}, Val Loss: {val_loss:.4f}, Train Accuracy: {train_acc:.4f}, Val Accuracy: {val_acc:.4f}\")\n",
        "\n",
        "    train_losses.append(train_loss)\n",
        "    val_losses.append(val_loss)\n",
        "    train_accs.append(train_acc)\n",
        "    val_accs.append(val_acc)\n",
        "\n",
        "  \n",
        "  return train_losses,train_accs, val_losses, val_accs\n"
      ],
      "metadata": {
        "id": "FdjhBC353Ol0"
      },
      "execution_count": null,
      "outputs": []
    },
    {
      "cell_type": "code",
      "source": [],
      "metadata": {
        "id": "8QRSohyzpp5_"
      },
      "execution_count": null,
      "outputs": []
    },
    {
      "cell_type": "code",
      "source": [
        "model = Conv1DBinaryClassifier()"
      ],
      "metadata": {
        "id": "5yYogwyBaLVx"
      },
      "execution_count": null,
      "outputs": []
    },
    {
      "cell_type": "code",
      "source": [
        "train_losses, train_accs, val_losses, val_accs = train(model, monkey_train, monkey_val, batch_size = 8, num_epochs = 40,  learning_rate = 0.0005)"
      ],
      "metadata": {
        "id": "dLm2tLU0XLwA"
      },
      "execution_count": null,
      "outputs": []
    },
    {
      "cell_type": "code",
      "source": [],
      "metadata": {
        "id": "Sx2QVEfbrfKm"
      },
      "execution_count": null,
      "outputs": []
    },
    {
      "cell_type": "code",
      "source": [
        "results = {}"
      ],
      "metadata": {
        "id": "BwvVoDwGpraC"
      },
      "execution_count": null,
      "outputs": []
    },
    {
      "cell_type": "code",
      "source": [],
      "metadata": {
        "id": "NUF38KYtpdHV"
      },
      "execution_count": null,
      "outputs": []
    },
    {
      "cell_type": "code",
      "source": [
        "lag = np.arange(0,500,50)\n"
      ],
      "metadata": {
        "id": "UdysNZUgsDIQ"
      },
      "execution_count": null,
      "outputs": []
    },
    {
      "cell_type": "code",
      "source": [],
      "metadata": {
        "colab": {
          "base_uri": "https://localhost:8080/"
        },
        "id": "Q2DtM8YxtA8y",
        "outputId": "35998513-e9b2-4387-de6e-d9bc8ba6def5"
      },
      "execution_count": null,
      "outputs": [
        {
          "output_type": "execute_result",
          "data": {
            "text/plain": [
              "{'train': {'losses': [], 'accuracies': []},\n",
              " 'val': {'losses': [], 'accuracies': []}}"
            ]
          },
          "metadata": {},
          "execution_count": 122
        }
      ]
    },
    {
      "cell_type": "code",
      "source": [
        "vecs_results = {\n",
        "        'time session' : {'start' : [], 'end' : []},\n",
        "        'train' : {'losses': [], 'accuracies': []},\n",
        "        'val' : {'losses': [], 'accuracies': []}\n",
        "    }\n",
        "final_results = {\n",
        "        'time session' : {'start' : [], 'end' : []},\n",
        "        'train' : {'losses': [], 'accuracies': []},\n",
        "        'val' : {'losses': [], 'accuracies': []}\n",
        "    }\n",
        "\n",
        "\n",
        "lag = np.arange(0,500,50)\n",
        "start = 700\n",
        "end = 1100\n",
        "for idx, lag in enumerate(lag):\n",
        "  \n",
        "  print('Start training... for the time session: from ', start-lag,' to ',end-lag)\n",
        "\n",
        "  dataset = Monkeys_dataset(mat_file_labels = 'Stop_Task_Collab_2023/BHV_Go.mat', mat_file_x = 'Stop_Task_Collab_2023/activity_movement_onset_Go.mat',\n",
        "                                    root_dir='Stop_Task_Collab_2023/', start_idx = start-lag, end_idx = end-lag)\n",
        "  monkey_train, monkey_val = torch.utils.data.random_split(dataset, [0.85, 0.15])\n",
        "  \n",
        "  model = Conv1DBinaryClassifier()\n",
        "  train_losses, train_accs, val_losses, val_accs = train(model, monkey_train, monkey_val, batch_size = 8, num_epochs = 25,  learning_rate = 0.0005)\n",
        "\n",
        "  vecs_results['time session']['start'].append(start-lag)\n",
        "  vecs_results['time session']['end'].append(end-lag)\n",
        "  final_results['time session']['start'].append(start-lag)\n",
        "  final_results['time session']['end'].append(end-lag)\n",
        "\n",
        "  vecs_results['train']['losses'].append(train_losses)\n",
        "  vecs_results['train']['accuracies'].append(train_accs)\n",
        "  vecs_results['val']['losses'].append(val_losses)\n",
        "  vecs_results['val']['accuracies'].append(val_accs)\n",
        "\n",
        "  final_results['train']['losses'].append(train_losses[-1])\n",
        "  final_results['train']['accuracies'].append(train_accs[-1])\n",
        "  final_results['val']['losses'].append(val_losses[-1])\n",
        "  final_results['val']['accuracies'].append(val_accs[-1])\n",
        "\n",
        "  print('Done')\n",
        "\n",
        "\n",
        "\n",
        "  "
      ],
      "metadata": {
        "colab": {
          "base_uri": "https://localhost:8080/"
        },
        "id": "3wUDmHzzs7A2",
        "outputId": "2229fddc-1f4c-4428-83af-d571b07f8268"
      },
      "execution_count": null,
      "outputs": [
        {
          "output_type": "stream",
          "name": "stdout",
          "text": [
            "Start training... for the time session: from  700  to  1100\n",
            "Done\n",
            "Start training... for the time session: from  650  to  1050\n",
            "Done\n",
            "Start training... for the time session: from  600  to  1000\n",
            "Done\n",
            "Start training... for the time session: from  550  to  950\n",
            "Done\n",
            "Start training... for the time session: from  500  to  900\n",
            "Done\n",
            "Start training... for the time session: from  450  to  850\n",
            "Done\n",
            "Start training... for the time session: from  400  to  800\n",
            "Done\n",
            "Start training... for the time session: from  350  to  750\n",
            "Done\n",
            "Start training... for the time session: from  300  to  700\n",
            "Done\n",
            "Start training... for the time session: from  250  to  650\n",
            "Done\n"
          ]
        }
      ]
    },
    {
      "cell_type": "code",
      "source": [
        "final_results"
      ],
      "metadata": {
        "id": "1ybWFfP-u-8v"
      },
      "execution_count": null,
      "outputs": []
    },
    {
      "cell_type": "code",
      "source": [
        "import pickle\n",
        "#Save the results\n",
        "f = open(\"b=8,ep=25,lr=0.0005.json.pkl\",\"wb\")\n",
        "pickle.dump(final_results,f)\n",
        "f.close()"
      ],
      "metadata": {
        "id": "UZqqrVfy9A_e"
      },
      "execution_count": null,
      "outputs": []
    },
    {
      "cell_type": "code",
      "source": [
        "x_labs = []\n",
        "for i in range(len(final_results['time session']['start'])):\n",
        "  x_labs.append(str(final_results['time session']['start'][i])+'-'+str(final_results['time session']['end'][i]))"
      ],
      "metadata": {
        "id": "hhMEOF3J3P0W"
      },
      "execution_count": null,
      "outputs": []
    },
    {
      "cell_type": "code",
      "source": [
        "plt.figure(figsize = (15,8))\n",
        "plt.subplot(2, 1, 1)\n",
        "plt.plot(x_labs,final_results['train']['accuracies'], label = 'train', marker = 'o' )\n",
        "plt.plot(x_labs,final_results['val']['accuracies'], label = 'val', marker = 'o')\n",
        "plt.xticks(rotation = 45, size = 'small',color = 'white')\n",
        "plt.legend()\n",
        "plt.title('Accuracies for different time sessions')\n",
        "\n",
        "plt.subplot(2, 1, 2)\n",
        "plt.plot(x_labs,final_results['train']['losses'], label = 'train', marker = 'o')\n",
        "plt.plot(x_labs,final_results['val']['losses'], label = 'val', marker = 'o')\n",
        "plt.xticks(rotation = 45, size = 'small')\n",
        "plt.legend()\n",
        "plt.title('Losses for different time sessions')\n",
        "plt.suptitle('Hyperparams: batch_size = 8, num_epochs = 25, learning_rate = 0.0005', fontsize = 'small')\n",
        "\n",
        "\n",
        "\n",
        "plt.show()"
      ],
      "metadata": {
        "colab": {
          "base_uri": "https://localhost:8080/",
          "height": 791
        },
        "id": "LW1xSPQ-6uG0",
        "outputId": "d1cf9be3-4a37-4d9f-e159-833062293d04"
      },
      "execution_count": null,
      "outputs": [
        {
          "output_type": "display_data",
          "data": {
            "text/plain": [
              "<Figure size 1500x800 with 2 Axes>"
            ],
            "image/png": "[encoded data removed]"
          },
          "metadata": {}
        }
      ]
    },
    {
      "cell_type": "code",
      "source": [
        "start = 400\n",
        "end = 800"
      ],
      "metadata": {
        "id": "iR0Y3SvAsHw4"
      },
      "execution_count": null,
      "outputs": []
    },
    {
      "cell_type": "code",
      "source": [
        "dataset = Monkeys_dataset(mat_file_labels = 'Stop_Task_Collab_2023/BHV_Go.mat', mat_file_x = 'Stop_Task_Collab_2023/activity_movement_onset_Go.mat',\n",
        "                                    root_dir='Stop_Task_Collab_2023/', start_idx = start, end_idx = end)\n"
      ],
      "metadata": {
        "id": "VSi-dteFsHw4"
      },
      "execution_count": null,
      "outputs": []
    },
    {
      "cell_type": "code",
      "source": [
        "train_losses, train_accs, val_losses, val_accs = train(model, monkey_train, monkey_val, batch_size = 8, num_epochs = 40,  learning_rate = 0.0005)"
      ],
      "metadata": {
        "id": "78CX1C_esDDo"
      },
      "execution_count": null,
      "outputs": []
    },
    {
      "cell_type": "code",
      "source": [],
      "metadata": {
        "id": "_lHr0jo_sDAP"
      },
      "execution_count": null,
      "outputs": []
    },
    {
      "cell_type": "code",
      "source": [],
      "metadata": {
        "id": "U0cZM6slsC8e"
      },
      "execution_count": null,
      "outputs": []
    },
    {
      "cell_type": "code",
      "source": [],
      "metadata": {
        "id": "BWeHXpVVsC4m"
      },
      "execution_count": null,
      "outputs": []
    },
    {
      "cell_type": "code",
      "source": [],
      "metadata": {
        "id": "BcyvovggsCz_"
      },
      "execution_count": null,
      "outputs": []
    },
    {
      "cell_type": "code",
      "source": [
        "plt.plot(train_accs, label = 'train')\n",
        "plt.plot(val_accs, label = 'val')\n",
        "plt.legend()"
      ],
      "metadata": {
        "id": "6UUs1QGfonUp",
        "colab": {
          "base_uri": "https://localhost:8080/",
          "height": 448
        },
        "outputId": "c46ea334-24a3-4473-f616-fe96d698f84a"
      },
      "execution_count": null,
      "outputs": [
        {
          "output_type": "execute_result",
          "data": {
            "text/plain": [
              "<matplotlib.legend.Legend at 0x7fa98a9b6d00>"
            ]
          },
          "metadata": {},
          "execution_count": 58
        },
        {
          "output_type": "display_data",
          "data": {
            "text/plain": [
              "<Figure size 640x480 with 1 Axes>"
            ],
            "image/png": "[encoded data removed]"
          },
          "metadata": {}
        }
      ]
    },
    {
      "cell_type": "code",
      "source": [
        "plt.plot(train_losses, label = 'train')\n",
        "plt.plot(val_losses, label = 'val')\n",
        "plt.legend()"
      ],
      "metadata": {
        "colab": {
          "base_uri": "https://localhost:8080/",
          "height": 448
        },
        "id": "duJgsVNY9qPe",
        "outputId": "62097271-f235-48c2-c0b6-68eae404be51"
      },
      "execution_count": null,
      "outputs": [
        {
          "output_type": "execute_result",
          "data": {
            "text/plain": [
              "<matplotlib.legend.Legend at 0x7fa98a99cc70>"
            ]
          },
          "metadata": {},
          "execution_count": 59
        },
        {
          "output_type": "display_data",
          "data": {
            "text/plain": [
              "<Figure size 640x480 with 1 Axes>"
            ],
            "image/png": "[encoded data removed]"
          },
          "metadata": {}
        }
      ]
    },
    {
      "cell_type": "code",
      "source": [],
      "metadata": {
        "id": "JkbbuvOsn0C_"
      },
      "execution_count": null,
      "outputs": []
    },
    {
      "cell_type": "code",
      "source": [],
      "metadata": {
        "id": "5OPMiJuenztU"
      },
      "execution_count": null,
      "outputs": []
    },
    {
      "cell_type": "code",
      "source": [
        "from torch.utils.tensorboard import SummaryWriter"
      ],
      "metadata": {
        "id": "b_zm9VGll5sb"
      },
      "execution_count": null,
      "outputs": []
    },
    {
      "cell_type": "code",
      "source": [
        "\n",
        "\n",
        "# default `log_dir` is \"runs\" - we'll be more specific here\n",
        "writer = SummaryWriter('runs/fashion_mnist_experiment_1')"
      ],
      "metadata": {
        "id": "NOrhItPM9qL-"
      },
      "execution_count": null,
      "outputs": []
    }
  ]
}